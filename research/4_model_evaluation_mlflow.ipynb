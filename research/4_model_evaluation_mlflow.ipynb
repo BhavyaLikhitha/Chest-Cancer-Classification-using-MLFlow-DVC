{
 "cells": [
  {
   "cell_type": "code",
   "execution_count": 1,
   "metadata": {},
   "outputs": [],
   "source": [
    "import os\n",
    "os.chdir(\"../\")"
   ]
  },
  {
   "cell_type": "code",
   "execution_count": 2,
   "metadata": {},
   "outputs": [
    {
     "data": {
      "text/html": [
       "<pre style=\"white-space:pre;overflow-x:auto;line-height:normal;font-family:Menlo,'DejaVu Sans Mono',consolas,'Courier New',monospace\">Accessing as BhavyaLikhitha\n",
       "</pre>\n"
      ],
      "text/plain": [
       "Accessing as BhavyaLikhitha\n"
      ]
     },
     "metadata": {},
     "output_type": "display_data"
    },
    {
     "data": {
      "text/html": [
       "<pre style=\"white-space:pre;overflow-x:auto;line-height:normal;font-family:Menlo,'DejaVu Sans Mono',consolas,'Courier New',monospace\">Initialized MLflow to track repo <span style=\"color: #008000; text-decoration-color: #008000\">\"BhavyaLikhitha/Chest-Cancer-Classification-using-MLFlow-DVC\"</span>\n",
       "</pre>\n"
      ],
      "text/plain": [
       "Initialized MLflow to track repo \u001b[32m\"BhavyaLikhitha/Chest-Cancer-Classification-using-MLFlow-DVC\"\u001b[0m\n"
      ]
     },
     "metadata": {},
     "output_type": "display_data"
    },
    {
     "data": {
      "text/html": [
       "<pre style=\"white-space:pre;overflow-x:auto;line-height:normal;font-family:Menlo,'DejaVu Sans Mono',consolas,'Courier New',monospace\">Repository BhavyaLikhitha/Chest-Cancer-Classification-using-MLFlow-DVC initialized!\n",
       "</pre>\n"
      ],
      "text/plain": [
       "Repository BhavyaLikhitha/Chest-Cancer-Classification-using-MLFlow-DVC initialized!\n"
      ]
     },
     "metadata": {},
     "output_type": "display_data"
    }
   ],
   "source": [
    "import dagshub\n",
    "dagshub.init(repo_owner='BhavyaLikhitha', repo_name='Chest-Cancer-Classification-using-MLFlow-DVC', mlflow=True)\n",
    "\n",
    "import mlflow\n",
    "with mlflow.start_run():\n",
    "  mlflow.log_param('parameter name', 'value')\n",
    "  mlflow.log_metric('metric name', 1)"
   ]
  },
  {
   "cell_type": "code",
   "execution_count": 3,
   "metadata": {},
   "outputs": [],
   "source": [
    "# MLFLOW_TRACKING_URI=https://dagshub.com/BhavyaLikhitha/Chest-Cancer-Classification-using-MLFlow-DVC.mlflow\n",
    "# MLFLOW_TRACKING_USERNAME=BhavyaLikhitha \\\n",
    "# MLFLOW_TRACKING_PASSWORD =67e311e47e6329264788b16fb4d2dc2a3c432f6b \\\n",
    "# python script.py"
   ]
  },
  {
   "cell_type": "code",
   "execution_count": 2,
   "metadata": {},
   "outputs": [],
   "source": [
    "os.environ[\"MLFLOW_TRACKING_URI\"]=\"https://dagshub.com/BhavyaLikhitha/Chest-Cancer-Classification-using-MLFlow-DVC.mlflow\"\n",
    "os.environ[\"MLFLOW_TRACKING_USERNAME\"]=\"BhavyaLikhitha\"\n",
    "os.environ[\"MLFLOW_TRACKING_PASSWORD\"]=\"67e311e47e6329264788b16fb4d2dc2a3c432f6b\""
   ]
  },
  {
   "cell_type": "code",
   "execution_count": 3,
   "metadata": {},
   "outputs": [],
   "source": [
    "import tensorflow as tf"
   ]
  },
  {
   "cell_type": "code",
   "execution_count": 4,
   "metadata": {},
   "outputs": [
    {
     "name": "stdout",
     "output_type": "stream",
     "text": [
      "True\n"
     ]
    }
   ],
   "source": [
    "\n",
    "print(os.path.exists(\"artifacts/training/model.h5\"))\n"
   ]
  },
  {
   "cell_type": "code",
   "execution_count": 5,
   "metadata": {},
   "outputs": [],
   "source": [
    "model_path = os.path.abspath(\"artifacts/training/model.h5\")\n",
    "model = tf.keras.models.load_model(model_path)"
   ]
  },
  {
   "cell_type": "code",
   "execution_count": 6,
   "metadata": {},
   "outputs": [],
   "source": [
    "from dataclasses import dataclass\n",
    "from pathlib import Path\n",
    "\n",
    "@dataclass(frozen=True)\n",
    "class EvaluationConfig:\n",
    "    path_of_model: Path\n",
    "    training_data: Path\n",
    "    all_params: dict\n",
    "    mlflow_uri: str\n",
    "    params_image_size: list\n",
    "    params_batch_size: int"
   ]
  },
  {
   "cell_type": "code",
   "execution_count": 7,
   "metadata": {},
   "outputs": [],
   "source": [
    "from ChestCancerClassification.constants import *\n",
    "from ChestCancerClassification.utils.common import read_yaml, create_directories, save_json"
   ]
  },
  {
   "cell_type": "code",
   "execution_count": 8,
   "metadata": {},
   "outputs": [],
   "source": [
    "class ConfigurationManager:\n",
    "    def __init__(\n",
    "        self, \n",
    "        config_filepath = CONFIG_FILE_PATH,\n",
    "        params_filepath = PARAMS_FILE_PATH):\n",
    "        self.config = read_yaml(config_filepath)\n",
    "        self.params = read_yaml(params_filepath)\n",
    "        create_directories([self.config.artifacts_root])\n",
    "\n",
    "    \n",
    "    def get_evaluation_config(self) -> EvaluationConfig:\n",
    "        eval_config = EvaluationConfig(\n",
    "            path_of_model=\"artifacts/training/model.h5\",\n",
    "            training_data=\"artifacts/data_ingestion/Chest-CT-Scan-data\",\n",
    "            mlflow_uri=\"https://dagshub.com/BhavyaLikhitha/Chest-Cancer-Classification-using-MLFlow-DVC.mlflow\",\n",
    "            all_params=self.params,\n",
    "            params_image_size=self.params.IMAGE_SIZE,\n",
    "            params_batch_size=self.params.BATCH_SIZE\n",
    "        )\n",
    "        return eval_config"
   ]
  },
  {
   "cell_type": "code",
   "execution_count": 9,
   "metadata": {},
   "outputs": [],
   "source": [
    "import tensorflow as tf\n",
    "from pathlib import Path\n",
    "import mlflow\n",
    "import mlflow.keras\n",
    "import mlflow.tensorflow\n",
    "from urllib.parse import urlparse"
   ]
  },
  {
   "cell_type": "code",
   "execution_count": 10,
   "metadata": {},
   "outputs": [],
   "source": [
    "class Evaluation:\n",
    "    def __init__(self, config: EvaluationConfig):\n",
    "        self.config = config\n",
    "\n",
    "    \n",
    "    def _valid_generator(self):\n",
    "\n",
    "        datagenerator_kwargs = dict(\n",
    "            rescale = 1./255,\n",
    "            validation_split=0.30\n",
    "        )\n",
    "\n",
    "        dataflow_kwargs = dict(\n",
    "            target_size=self.config.params_image_size[:-1],\n",
    "            batch_size=self.config.params_batch_size,\n",
    "            interpolation=\"bilinear\"\n",
    "        )\n",
    "\n",
    "        valid_datagenerator = tf.keras.preprocessing.image.ImageDataGenerator(\n",
    "            **datagenerator_kwargs\n",
    "        )\n",
    "\n",
    "        self.valid_generator = valid_datagenerator.flow_from_directory(\n",
    "            directory=self.config.training_data,\n",
    "            subset=\"validation\",\n",
    "            shuffle=False,\n",
    "            **dataflow_kwargs\n",
    "        )\n",
    "\n",
    "    @staticmethod\n",
    "    def load_model(path: Path) -> tf.keras.Model:\n",
    "        return tf.keras.models.load_model(path)\n",
    "    \n",
    "\n",
    "    def evaluation(self):\n",
    "        self.model = self.load_model(self.config.path_of_model)\n",
    "        self._valid_generator()\n",
    "        self.score = model.evaluate(self.valid_generator)\n",
    "        self.save_score()\n",
    "\n",
    "    def save_score(self):\n",
    "        scores = {\"loss\": self.score[0], \"accuracy\": self.score[1]}\n",
    "        save_json(path=Path(\"scores.json\"), data=scores)\n",
    "\n",
    "    \n",
    "    # def log_into_mlflow(self):\n",
    "    #     mlflow.set_registry_uri(self.config.mlflow_uri)\n",
    "    #     tracking_url_type_store = urlparse(mlflow.get_tracking_uri()).scheme\n",
    "        \n",
    "    #     with mlflow.start_run():\n",
    "    #         mlflow.log_params(self.config.all_params)\n",
    "    #         mlflow.log_metrics(\n",
    "    #             {\"loss\": self.score[0], \"accuracy\": self.score[1]}\n",
    "    #         )\n",
    "    #         # Model registry does not work with file store\n",
    "    #         if tracking_url_type_store != \"file\":\n",
    "    #               # Register the model\n",
    "    #             # There are other ways to use the Model Registry, which depends on the use case,\n",
    "    #             # please refer to the doc for more information:\n",
    "    #             # https://mlflow.org/docs/latest/model-registry.html#api-workflow\n",
    "    #             mlflow.keras.log_model(self.model, \"model\", registered_model_name=\"VGG16Model\")\n",
    "    #             # mlflow.tensorflow.log_model(self.model, artifact_path=\"model\", registered_model_name=\"VGG16Model\")\n",
    "\n",
    "    #         else:\n",
    "    #             mlflow.keras.log_model(self.model, \"model\")\n",
    "    def log_into_mlflow(self):\n",
    "        mlflow.set_registry_uri(self.config.mlflow_uri)\n",
    "        tracking_url_type_store = urlparse(mlflow.get_tracking_uri()).scheme\n",
    "    \n",
    "        with mlflow.start_run():\n",
    "            mlflow.log_params(self.config.all_params)\n",
    "            mlflow.log_metrics({\"loss\": self.score[0], \"accuracy\": self.score[1]})\n",
    "        \n",
    "        # Model registry does not work with file store\n",
    "            if tracking_url_type_store != \"file\":\n",
    "            # Use mlflow.tensorflow as a fallback if keras logging fails\n",
    "                mlflow.tensorflow.log_model(\n",
    "                    self.model,\n",
    "                    artifact_path=\"model\",\n",
    "                    registered_model_name=\"VGG16Model\"\n",
    "            )\n",
    "            else:\n",
    "                mlflow.keras.log_model(self.model, \"model\")\n"
   ]
  },
  {
   "cell_type": "code",
   "execution_count": 11,
   "metadata": {},
   "outputs": [
    {
     "name": "stdout",
     "output_type": "stream",
     "text": [
      "[2025-01-01 11:36:11,392: INFO: common: yaml file: config\\config.yaml loaded successfully]\n",
      "[2025-01-01 11:36:11,421: INFO: common: yaml file: params.yaml loaded successfully]\n",
      "[2025-01-01 11:36:11,421: INFO: common: created directory at: artifacts]\n",
      "Found 102 images belonging to 2 classes.\n",
      "7/7 [==============================] - 37s 5s/step - loss: 22.4961 - accuracy: 0.5686\n",
      "[2025-01-01 11:36:49,754: INFO: common: json file saved at: scores.json]\n"
     ]
    },
    {
     "name": "stderr",
     "output_type": "stream",
     "text": [
      "2025/01/01 11:36:50 WARNING mlflow.tensorflow: You are saving a TensorFlow Core model or Keras model without a signature. Inference with mlflow.pyfunc.spark_udf() will not work unless the model's pyfunc representation accepts pandas DataFrames as inference inputs.\n"
     ]
    },
    {
     "name": "stdout",
     "output_type": "stream",
     "text": [
      "[2025-01-01 11:36:53,347: WARNING: save: Found untraced functions such as _jit_compiled_convolution_op, _jit_compiled_convolution_op, _jit_compiled_convolution_op, _jit_compiled_convolution_op, _jit_compiled_convolution_op while saving (showing 5 of 14). These functions will not be directly callable after loading.]\n",
      "INFO:tensorflow:Assets written to: C:\\Users\\bhavy\\AppData\\Local\\Temp\\tmpc7igmy44\\model\\data\\model\\assets\n",
      "[2025-01-01 11:36:54,180: INFO: builder_impl: Assets written to: C:\\Users\\bhavy\\AppData\\Local\\Temp\\tmpc7igmy44\\model\\data\\model\\assets]\n"
     ]
    },
    {
     "name": "stderr",
     "output_type": "stream",
     "text": [
      "c:\\Users\\bhavy\\.conda\\envs\\cancer\\lib\\site-packages\\_distutils_hack\\__init__.py:31: UserWarning: Setuptools is replacing distutils. Support for replacing an already imported distutils is deprecated. In the future, this condition will fail. Register concerns at https://github.com/pypa/setuptools/issues/new?template=distutils-deprecation.yml\n",
      "  warnings.warn(\n",
      "Registered model 'VGG16Model' already exists. Creating a new version of this model...\n",
      "2025/01/01 11:37:42 INFO mlflow.tracking._model_registry.client: Waiting up to 300 seconds for model version to finish creation.                     Model name: VGG16Model, version 3\n",
      "Created version '3' of model 'VGG16Model'.\n"
     ]
    }
   ],
   "source": [
    "try:\n",
    "    config = ConfigurationManager()\n",
    "    eval_config = config.get_evaluation_config()\n",
    "    evaluation = Evaluation(eval_config)\n",
    "    evaluation.evaluation()\n",
    "    evaluation.log_into_mlflow()\n",
    "\n",
    "except Exception as e:\n",
    "   raise e"
   ]
  },
  {
   "cell_type": "code",
   "execution_count": 17,
   "metadata": {},
   "outputs": [
    {
     "name": "stderr",
     "output_type": "stream",
     "text": [
      "2024/12/31 21:55:04 WARNING mlflow.tensorflow: You are saving a TensorFlow Core model or Keras model without a signature. Inference with mlflow.pyfunc.spark_udf() will not work unless the model's pyfunc representation accepts pandas DataFrames as inference inputs.\n"
     ]
    },
    {
     "name": "stdout",
     "output_type": "stream",
     "text": [
      "INFO:tensorflow:Assets written to: C:\\Users\\bhavy\\AppData\\Local\\Temp\\tmprhfgxtgd\\model\\data\\model\\assets\n",
      "[2024-12-31 21:55:04,366: INFO: builder_impl: Assets written to: C:\\Users\\bhavy\\AppData\\Local\\Temp\\tmprhfgxtgd\\model\\data\\model\\assets]\n"
     ]
    },
    {
     "name": "stderr",
     "output_type": "stream",
     "text": [
      "2024/12/31 21:55:25 WARNING mlflow.utils.environment: Encountered an unexpected error while inferring pip requirements (model URI: C:\\Users\\bhavy\\AppData\\Local\\Temp\\tmprhfgxtgd\\model, flavor: tensorflow), fall back to return ['tensorflow==2.13.0']. Set logging level to DEBUG to see the full traceback.\n",
      "c:\\Users\\bhavy\\.conda\\envs\\cancer\\lib\\site-packages\\_distutils_hack\\__init__.py:31: UserWarning: Setuptools is replacing distutils. Support for replacing an already imported distutils is deprecated. In the future, this condition will fail. Register concerns at https://github.com/pypa/setuptools/issues/new?template=distutils-deprecation.yml\n",
      "  warnings.warn(\n"
     ]
    }
   ],
   "source": [
    "import mlflow.tensorflow\n",
    "import tensorflow as tf\n",
    "\n",
    "# Dummy model\n",
    "model = tf.keras.Sequential([tf.keras.layers.Dense(1, input_shape=(3,))])\n",
    "model.compile(optimizer=\"adam\", loss=\"mse\")\n",
    "\n",
    "with mlflow.start_run():\n",
    "    mlflow.tensorflow.log_model(model, artifact_path=\"test_model\")\n"
   ]
  },
  {
   "cell_type": "code",
   "execution_count": 13,
   "metadata": {},
   "outputs": [
    {
     "name": "stdout",
     "output_type": "stream",
     "text": [
      "2.13.0\n"
     ]
    }
   ],
   "source": [
    "import tensorflow as tf\n",
    "print(tf.version.VERSION)"
   ]
  },
  {
   "cell_type": "code",
   "execution_count": 12,
   "metadata": {},
   "outputs": [
    {
     "name": "stdout",
     "output_type": "stream",
     "text": [
      "True\n"
     ]
    }
   ],
   "source": [
    "import tensorflow.keras\n",
    "print(hasattr(tensorflow.keras, '__version__'))\n"
   ]
  },
  {
   "cell_type": "code",
   "execution_count": 1,
   "metadata": {},
   "outputs": [
    {
     "name": "stdout",
     "output_type": "stream",
     "text": [
      "2.11.1\n"
     ]
    }
   ],
   "source": [
    "import tensorflow as tf\n",
    "print(tf.__version__)  # Should print 2.11.1\n"
   ]
  },
  {
   "cell_type": "code",
   "execution_count": 16,
   "metadata": {},
   "outputs": [
    {
     "name": "stdout",
     "output_type": "stream",
     "text": [
      "Requirement already satisfied: tensorflow==2.11.1 in c:\\users\\bhavy\\.conda\\envs\\cancer\\lib\\site-packages (2.11.1)Note: you may need to restart the kernel to use updated packages.\n",
      "\n",
      "Requirement already satisfied: tensorflow-intel==2.11.1 in c:\\users\\bhavy\\.conda\\envs\\cancer\\lib\\site-packages (from tensorflow==2.11.1) (2.11.1)\n",
      "Requirement already satisfied: absl-py>=1.0.0 in c:\\users\\bhavy\\.conda\\envs\\cancer\\lib\\site-packages (from tensorflow-intel==2.11.1->tensorflow==2.11.1) (2.1.0)\n",
      "Requirement already satisfied: astunparse>=1.6.0 in c:\\users\\bhavy\\.conda\\envs\\cancer\\lib\\site-packages (from tensorflow-intel==2.11.1->tensorflow==2.11.1) (1.6.3)\n",
      "Requirement already satisfied: flatbuffers>=2.0 in c:\\users\\bhavy\\.conda\\envs\\cancer\\lib\\site-packages (from tensorflow-intel==2.11.1->tensorflow==2.11.1) (24.12.23)\n",
      "Requirement already satisfied: gast<=0.4.0,>=0.2.1 in c:\\users\\bhavy\\.conda\\envs\\cancer\\lib\\site-packages (from tensorflow-intel==2.11.1->tensorflow==2.11.1) (0.4.0)\n",
      "Requirement already satisfied: google-pasta>=0.1.1 in c:\\users\\bhavy\\.conda\\envs\\cancer\\lib\\site-packages (from tensorflow-intel==2.11.1->tensorflow==2.11.1) (0.2.0)\n",
      "Requirement already satisfied: h5py>=2.9.0 in c:\\users\\bhavy\\.conda\\envs\\cancer\\lib\\site-packages (from tensorflow-intel==2.11.1->tensorflow==2.11.1) (3.11.0)\n",
      "Requirement already satisfied: libclang>=13.0.0 in c:\\users\\bhavy\\.conda\\envs\\cancer\\lib\\site-packages (from tensorflow-intel==2.11.1->tensorflow==2.11.1) (18.1.1)\n",
      "Requirement already satisfied: numpy>=1.20 in c:\\users\\bhavy\\.conda\\envs\\cancer\\lib\\site-packages (from tensorflow-intel==2.11.1->tensorflow==2.11.1) (1.23.5)\n",
      "Requirement already satisfied: opt-einsum>=2.3.2 in c:\\users\\bhavy\\.conda\\envs\\cancer\\lib\\site-packages (from tensorflow-intel==2.11.1->tensorflow==2.11.1) (3.4.0)\n",
      "Requirement already satisfied: packaging in c:\\users\\bhavy\\.conda\\envs\\cancer\\lib\\site-packages (from tensorflow-intel==2.11.1->tensorflow==2.11.1) (23.2)\n",
      "Requirement already satisfied: protobuf<3.20,>=3.9.2 in c:\\users\\bhavy\\.conda\\envs\\cancer\\lib\\site-packages (from tensorflow-intel==2.11.1->tensorflow==2.11.1) (3.19.6)\n",
      "Requirement already satisfied: setuptools in c:\\users\\bhavy\\.conda\\envs\\cancer\\lib\\site-packages (from tensorflow-intel==2.11.1->tensorflow==2.11.1) (75.1.0)\n",
      "Requirement already satisfied: six>=1.12.0 in c:\\users\\bhavy\\.conda\\envs\\cancer\\lib\\site-packages (from tensorflow-intel==2.11.1->tensorflow==2.11.1) (1.17.0)\n",
      "Requirement already satisfied: termcolor>=1.1.0 in c:\\users\\bhavy\\.conda\\envs\\cancer\\lib\\site-packages (from tensorflow-intel==2.11.1->tensorflow==2.11.1) (2.4.0)\n",
      "Requirement already satisfied: typing-extensions>=3.6.6 in c:\\users\\bhavy\\.conda\\envs\\cancer\\lib\\site-packages (from tensorflow-intel==2.11.1->tensorflow==2.11.1) (4.5.0)\n",
      "Requirement already satisfied: wrapt>=1.11.0 in c:\\users\\bhavy\\.conda\\envs\\cancer\\lib\\site-packages (from tensorflow-intel==2.11.1->tensorflow==2.11.1) (1.14.1)\n",
      "Requirement already satisfied: grpcio<2.0,>=1.24.3 in c:\\users\\bhavy\\.conda\\envs\\cancer\\lib\\site-packages (from tensorflow-intel==2.11.1->tensorflow==2.11.1) (1.68.1)\n",
      "Requirement already satisfied: tensorboard<2.12,>=2.11 in c:\\users\\bhavy\\.conda\\envs\\cancer\\lib\\site-packages (from tensorflow-intel==2.11.1->tensorflow==2.11.1) (2.11.2)\n",
      "Requirement already satisfied: tensorflow-estimator<2.12,>=2.11.0 in c:\\users\\bhavy\\.conda\\envs\\cancer\\lib\\site-packages (from tensorflow-intel==2.11.1->tensorflow==2.11.1) (2.11.0)\n",
      "Requirement already satisfied: keras<2.12,>=2.11.0 in c:\\users\\bhavy\\.conda\\envs\\cancer\\lib\\site-packages (from tensorflow-intel==2.11.1->tensorflow==2.11.1) (2.11.0)\n",
      "Requirement already satisfied: tensorflow-io-gcs-filesystem>=0.23.1 in c:\\users\\bhavy\\.conda\\envs\\cancer\\lib\\site-packages (from tensorflow-intel==2.11.1->tensorflow==2.11.1) (0.31.0)\n",
      "Requirement already satisfied: wheel<1.0,>=0.23.0 in c:\\users\\bhavy\\.conda\\envs\\cancer\\lib\\site-packages (from astunparse>=1.6.0->tensorflow-intel==2.11.1->tensorflow==2.11.1) (0.45.1)\n",
      "Requirement already satisfied: google-auth<3,>=1.6.3 in c:\\users\\bhavy\\.conda\\envs\\cancer\\lib\\site-packages (from tensorboard<2.12,>=2.11->tensorflow-intel==2.11.1->tensorflow==2.11.1) (2.37.0)\n",
      "Requirement already satisfied: google-auth-oauthlib<0.5,>=0.4.1 in c:\\users\\bhavy\\.conda\\envs\\cancer\\lib\\site-packages (from tensorboard<2.12,>=2.11->tensorflow-intel==2.11.1->tensorflow==2.11.1) (0.4.6)\n",
      "Requirement already satisfied: markdown>=2.6.8 in c:\\users\\bhavy\\.conda\\envs\\cancer\\lib\\site-packages (from tensorboard<2.12,>=2.11->tensorflow-intel==2.11.1->tensorflow==2.11.1) (3.7)\n",
      "Requirement already satisfied: requests<3,>=2.21.0 in c:\\users\\bhavy\\.conda\\envs\\cancer\\lib\\site-packages (from tensorboard<2.12,>=2.11->tensorflow-intel==2.11.1->tensorflow==2.11.1) (2.32.3)\n",
      "Requirement already satisfied: tensorboard-data-server<0.7.0,>=0.6.0 in c:\\users\\bhavy\\.conda\\envs\\cancer\\lib\\site-packages (from tensorboard<2.12,>=2.11->tensorflow-intel==2.11.1->tensorflow==2.11.1) (0.6.1)\n",
      "Requirement already satisfied: tensorboard-plugin-wit>=1.6.0 in c:\\users\\bhavy\\.conda\\envs\\cancer\\lib\\site-packages (from tensorboard<2.12,>=2.11->tensorflow-intel==2.11.1->tensorflow==2.11.1) (1.8.1)\n",
      "Requirement already satisfied: werkzeug>=1.0.1 in c:\\users\\bhavy\\.conda\\envs\\cancer\\lib\\site-packages (from tensorboard<2.12,>=2.11->tensorflow-intel==2.11.1->tensorflow==2.11.1) (3.0.6)\n",
      "Requirement already satisfied: cachetools<6.0,>=2.0.0 in c:\\users\\bhavy\\.conda\\envs\\cancer\\lib\\site-packages (from google-auth<3,>=1.6.3->tensorboard<2.12,>=2.11->tensorflow-intel==2.11.1->tensorflow==2.11.1) (5.5.0)\n",
      "Requirement already satisfied: pyasn1-modules>=0.2.1 in c:\\users\\bhavy\\.conda\\envs\\cancer\\lib\\site-packages (from google-auth<3,>=1.6.3->tensorboard<2.12,>=2.11->tensorflow-intel==2.11.1->tensorflow==2.11.1) (0.4.1)\n",
      "Requirement already satisfied: rsa<5,>=3.1.4 in c:\\users\\bhavy\\.conda\\envs\\cancer\\lib\\site-packages (from google-auth<3,>=1.6.3->tensorboard<2.12,>=2.11->tensorflow-intel==2.11.1->tensorflow==2.11.1) (4.9)\n",
      "Requirement already satisfied: requests-oauthlib>=0.7.0 in c:\\users\\bhavy\\.conda\\envs\\cancer\\lib\\site-packages (from google-auth-oauthlib<0.5,>=0.4.1->tensorboard<2.12,>=2.11->tensorflow-intel==2.11.1->tensorflow==2.11.1) (2.0.0)\n",
      "Requirement already satisfied: importlib-metadata>=4.4 in c:\\users\\bhavy\\.conda\\envs\\cancer\\lib\\site-packages (from markdown>=2.6.8->tensorboard<2.12,>=2.11->tensorflow-intel==2.11.1->tensorflow==2.11.1) (6.11.0)\n",
      "Requirement already satisfied: charset-normalizer<4,>=2 in c:\\users\\bhavy\\.conda\\envs\\cancer\\lib\\site-packages (from requests<3,>=2.21.0->tensorboard<2.12,>=2.11->tensorflow-intel==2.11.1->tensorflow==2.11.1) (3.4.1)\n",
      "Requirement already satisfied: idna<4,>=2.5 in c:\\users\\bhavy\\.conda\\envs\\cancer\\lib\\site-packages (from requests<3,>=2.21.0->tensorboard<2.12,>=2.11->tensorflow-intel==2.11.1->tensorflow==2.11.1) (3.10)\n",
      "Requirement already satisfied: urllib3<3,>=1.21.1 in c:\\users\\bhavy\\.conda\\envs\\cancer\\lib\\site-packages (from requests<3,>=2.21.0->tensorboard<2.12,>=2.11->tensorflow-intel==2.11.1->tensorflow==2.11.1) (1.26.20)\n",
      "Requirement already satisfied: certifi>=2017.4.17 in c:\\users\\bhavy\\.conda\\envs\\cancer\\lib\\site-packages (from requests<3,>=2.21.0->tensorboard<2.12,>=2.11->tensorflow-intel==2.11.1->tensorflow==2.11.1) (2024.12.14)\n",
      "Requirement already satisfied: MarkupSafe>=2.1.1 in c:\\users\\bhavy\\.conda\\envs\\cancer\\lib\\site-packages (from werkzeug>=1.0.1->tensorboard<2.12,>=2.11->tensorflow-intel==2.11.1->tensorflow==2.11.1) (2.1.5)\n",
      "Requirement already satisfied: zipp>=0.5 in c:\\users\\bhavy\\.conda\\envs\\cancer\\lib\\site-packages (from importlib-metadata>=4.4->markdown>=2.6.8->tensorboard<2.12,>=2.11->tensorflow-intel==2.11.1->tensorflow==2.11.1) (3.20.2)\n",
      "Requirement already satisfied: pyasn1<0.7.0,>=0.4.6 in c:\\users\\bhavy\\.conda\\envs\\cancer\\lib\\site-packages (from pyasn1-modules>=0.2.1->google-auth<3,>=1.6.3->tensorboard<2.12,>=2.11->tensorflow-intel==2.11.1->tensorflow==2.11.1) (0.6.1)\n",
      "Requirement already satisfied: oauthlib>=3.0.0 in c:\\users\\bhavy\\.conda\\envs\\cancer\\lib\\site-packages (from requests-oauthlib>=0.7.0->google-auth-oauthlib<0.5,>=0.4.1->tensorboard<2.12,>=2.11->tensorflow-intel==2.11.1->tensorflow==2.11.1) (3.2.2)\n"
     ]
    }
   ],
   "source": [
    "pip install tensorflow==2.11.1\n"
   ]
  },
  {
   "cell_type": "code",
   "execution_count": 16,
   "metadata": {},
   "outputs": [],
   "source": [
    "import tensorflow.keras\n",
    "tensorflow.keras.__version__ = tf.__version__\n"
   ]
  },
  {
   "cell_type": "code",
   "execution_count": 12,
   "metadata": {},
   "outputs": [
    {
     "name": "stdout",
     "output_type": "stream",
     "text": [
      "TensorFlow version: 2.13.0\n",
      "MLflow version: 2.2.2\n"
     ]
    }
   ],
   "source": [
    "import tensorflow as tf\n",
    "import mlflow\n",
    "print(\"TensorFlow version:\", tf.__version__)\n",
    "print(\"MLflow version:\", mlflow.__version__)\n"
   ]
  },
  {
   "cell_type": "code",
   "execution_count": 12,
   "metadata": {},
   "outputs": [
    {
     "name": "stdout",
     "output_type": "stream",
     "text": [
      "c:\\Users\\bhavy\\.conda\\envs\\cancer\\lib\\distutils\\__init__.py\n"
     ]
    }
   ],
   "source": [
    "import distutils\n",
    "print(distutils.__file__)\n"
   ]
  },
  {
   "cell_type": "code",
   "execution_count": 13,
   "metadata": {},
   "outputs": [
    {
     "name": "stdout",
     "output_type": "stream",
     "text": [
      "75.1.0\n",
      "c:\\Users\\bhavy\\.conda\\envs\\cancer\\lib\\distutils\\__init__.py\n"
     ]
    }
   ],
   "source": [
    "import setuptools\n",
    "import distutils\n",
    "print(setuptools.__version__)\n",
    "print(distutils.__file__)\n"
   ]
  },
  {
   "cell_type": "code",
   "execution_count": 14,
   "metadata": {},
   "outputs": [
    {
     "name": "stdout",
     "output_type": "stream",
     "text": [
      "setuptools version: 75.1.0\n",
      "distutils location: c:\\Users\\bhavy\\.conda\\envs\\cancer\\lib\\distutils\\__init__.py\n"
     ]
    }
   ],
   "source": [
    "import setuptools\n",
    "import distutils\n",
    "print(f\"setuptools version: {setuptools.__version__}\")\n",
    "print(f\"distutils location: {distutils.__file__}\")\n"
   ]
  }
 ],
 "metadata": {
  "kernelspec": {
   "display_name": "cancer",
   "language": "python",
   "name": "python3"
  },
  "language_info": {
   "codemirror_mode": {
    "name": "ipython",
    "version": 3
   },
   "file_extension": ".py",
   "mimetype": "text/x-python",
   "name": "python",
   "nbconvert_exporter": "python",
   "pygments_lexer": "ipython3",
   "version": "3.8.20"
  }
 },
 "nbformat": 4,
 "nbformat_minor": 2
}
